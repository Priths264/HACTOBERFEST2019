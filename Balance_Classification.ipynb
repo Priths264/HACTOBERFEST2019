{
  "cells": [
    {
      "cell_type": "markdown",
      "metadata": {
        "id": "view-in-github",
        "colab_type": "text"
      },
      "source": [
        "<a href=\"https://colab.research.google.com/github/Priths264/HACTOBERFEST2019/blob/master/Balance_Classification.ipynb\" target=\"_parent\"><img src=\"https://colab.research.google.com/assets/colab-badge.svg\" alt=\"Open In Colab\"/></a>"
      ]
    },
    {
      "cell_type": "code",
      "execution_count": null,
      "id": "9d9f88a1",
      "metadata": {
        "id": "9d9f88a1"
      },
      "outputs": [],
      "source": [
        "import numpy as np\n",
        "import pandas as pd\n",
        "import matplotlib.pyplot as plt\n",
        "%matplotlib inline\n",
        "import seaborn as sns\n",
        "import pylab\n",
        "import sys\n",
        "\n",
        "if not sys.warnoptions:\n",
        "    import warnings\n",
        "    warnings.simplefilter(\"ignore\")"
      ]
    },
    {
      "cell_type": "code",
      "execution_count": null,
      "id": "ca5af730",
      "metadata": {
        "id": "ca5af730",
        "outputId": "58ddc612-975a-4731-cdd5-454eedc34795"
      },
      "outputs": [
        {
          "data": {
            "text/html": [
              "<div>\n",
              "<style scoped>\n",
              "    .dataframe tbody tr th:only-of-type {\n",
              "        vertical-align: middle;\n",
              "    }\n",
              "\n",
              "    .dataframe tbody tr th {\n",
              "        vertical-align: top;\n",
              "    }\n",
              "\n",
              "    .dataframe thead th {\n",
              "        text-align: right;\n",
              "    }\n",
              "</style>\n",
              "<table border=\"1\" class=\"dataframe\">\n",
              "  <thead>\n",
              "    <tr style=\"text-align: right;\">\n",
              "      <th></th>\n",
              "      <th>AccountID</th>\n",
              "      <th>Churn</th>\n",
              "      <th>Tenure</th>\n",
              "      <th>City_Tier</th>\n",
              "      <th>CC_Contacted_LY</th>\n",
              "      <th>Payment</th>\n",
              "      <th>Gender</th>\n",
              "      <th>Service_Score</th>\n",
              "      <th>Account_user_count</th>\n",
              "      <th>account_segment</th>\n",
              "      <th>CC_Agent_Score</th>\n",
              "      <th>Marital_Status</th>\n",
              "      <th>rev_per_month</th>\n",
              "      <th>Complain_ly</th>\n",
              "      <th>rev_growth_yoy</th>\n",
              "      <th>coupon_used_for_payment</th>\n",
              "      <th>Day_Since_CC_connect</th>\n",
              "      <th>cashback</th>\n",
              "      <th>Login_device</th>\n",
              "    </tr>\n",
              "  </thead>\n",
              "  <tbody>\n",
              "    <tr>\n",
              "      <th>0</th>\n",
              "      <td>20000</td>\n",
              "      <td>1</td>\n",
              "      <td>4</td>\n",
              "      <td>3.0</td>\n",
              "      <td>6.0</td>\n",
              "      <td>Debit Card</td>\n",
              "      <td>Female</td>\n",
              "      <td>3.0</td>\n",
              "      <td>3</td>\n",
              "      <td>Super</td>\n",
              "      <td>2.0</td>\n",
              "      <td>Single</td>\n",
              "      <td>9</td>\n",
              "      <td>1.0</td>\n",
              "      <td>11</td>\n",
              "      <td>1</td>\n",
              "      <td>5</td>\n",
              "      <td>160</td>\n",
              "      <td>Mobile</td>\n",
              "    </tr>\n",
              "    <tr>\n",
              "      <th>1</th>\n",
              "      <td>20001</td>\n",
              "      <td>1</td>\n",
              "      <td>0</td>\n",
              "      <td>1.0</td>\n",
              "      <td>8.0</td>\n",
              "      <td>UPI</td>\n",
              "      <td>Male</td>\n",
              "      <td>3.0</td>\n",
              "      <td>4</td>\n",
              "      <td>Regular Plus</td>\n",
              "      <td>3.0</td>\n",
              "      <td>Single</td>\n",
              "      <td>7</td>\n",
              "      <td>1.0</td>\n",
              "      <td>15</td>\n",
              "      <td>0</td>\n",
              "      <td>0</td>\n",
              "      <td>121</td>\n",
              "      <td>Mobile</td>\n",
              "    </tr>\n",
              "    <tr>\n",
              "      <th>2</th>\n",
              "      <td>20002</td>\n",
              "      <td>1</td>\n",
              "      <td>0</td>\n",
              "      <td>1.0</td>\n",
              "      <td>30.0</td>\n",
              "      <td>Debit Card</td>\n",
              "      <td>Male</td>\n",
              "      <td>2.0</td>\n",
              "      <td>4</td>\n",
              "      <td>Regular Plus</td>\n",
              "      <td>3.0</td>\n",
              "      <td>Single</td>\n",
              "      <td>6</td>\n",
              "      <td>1.0</td>\n",
              "      <td>14</td>\n",
              "      <td>0</td>\n",
              "      <td>3</td>\n",
              "      <td>NaN</td>\n",
              "      <td>Mobile</td>\n",
              "    </tr>\n",
              "    <tr>\n",
              "      <th>3</th>\n",
              "      <td>20003</td>\n",
              "      <td>1</td>\n",
              "      <td>0</td>\n",
              "      <td>3.0</td>\n",
              "      <td>15.0</td>\n",
              "      <td>Debit Card</td>\n",
              "      <td>Male</td>\n",
              "      <td>2.0</td>\n",
              "      <td>4</td>\n",
              "      <td>Super</td>\n",
              "      <td>5.0</td>\n",
              "      <td>Single</td>\n",
              "      <td>8</td>\n",
              "      <td>0.0</td>\n",
              "      <td>23</td>\n",
              "      <td>0</td>\n",
              "      <td>3</td>\n",
              "      <td>134</td>\n",
              "      <td>Mobile</td>\n",
              "    </tr>\n",
              "    <tr>\n",
              "      <th>4</th>\n",
              "      <td>20004</td>\n",
              "      <td>1</td>\n",
              "      <td>0</td>\n",
              "      <td>1.0</td>\n",
              "      <td>12.0</td>\n",
              "      <td>Credit Card</td>\n",
              "      <td>Male</td>\n",
              "      <td>2.0</td>\n",
              "      <td>3</td>\n",
              "      <td>Regular Plus</td>\n",
              "      <td>5.0</td>\n",
              "      <td>Single</td>\n",
              "      <td>3</td>\n",
              "      <td>0.0</td>\n",
              "      <td>11</td>\n",
              "      <td>1</td>\n",
              "      <td>3</td>\n",
              "      <td>130</td>\n",
              "      <td>Mobile</td>\n",
              "    </tr>\n",
              "  </tbody>\n",
              "</table>\n",
              "</div>"
            ],
            "text/plain": [
              "   AccountID  Churn Tenure  City_Tier  CC_Contacted_LY      Payment  Gender   \n",
              "0      20000      1      4        3.0              6.0   Debit Card  Female  \\\n",
              "1      20001      1      0        1.0              8.0          UPI    Male   \n",
              "2      20002      1      0        1.0             30.0   Debit Card    Male   \n",
              "3      20003      1      0        3.0             15.0   Debit Card    Male   \n",
              "4      20004      1      0        1.0             12.0  Credit Card    Male   \n",
              "\n",
              "   Service_Score Account_user_count account_segment  CC_Agent_Score   \n",
              "0            3.0                  3           Super             2.0  \\\n",
              "1            3.0                  4    Regular Plus             3.0   \n",
              "2            2.0                  4    Regular Plus             3.0   \n",
              "3            2.0                  4           Super             5.0   \n",
              "4            2.0                  3    Regular Plus             5.0   \n",
              "\n",
              "  Marital_Status rev_per_month  Complain_ly rev_growth_yoy   \n",
              "0         Single             9          1.0             11  \\\n",
              "1         Single             7          1.0             15   \n",
              "2         Single             6          1.0             14   \n",
              "3         Single             8          0.0             23   \n",
              "4         Single             3          0.0             11   \n",
              "\n",
              "  coupon_used_for_payment Day_Since_CC_connect cashback Login_device  \n",
              "0                       1                    5      160       Mobile  \n",
              "1                       0                    0      121       Mobile  \n",
              "2                       0                    3      NaN       Mobile  \n",
              "3                       0                    3      134       Mobile  \n",
              "4                       1                    3      130       Mobile  "
            ]
          },
          "execution_count": 42,
          "metadata": {},
          "output_type": "execute_result"
        }
      ],
      "source": [
        "df = pd.read_csv('Customer Churn Data.csv')\n",
        "df.head()"
      ]
    },
    {
      "cell_type": "code",
      "execution_count": null,
      "id": "1a4f56e2",
      "metadata": {
        "id": "1a4f56e2",
        "outputId": "4b0d11b9-485b-4461-c1e4-6a1eb9c9ffc7"
      },
      "outputs": [
        {
          "data": {
            "text/plain": [
              "(11260, 19)"
            ]
          },
          "execution_count": 43,
          "metadata": {},
          "output_type": "execute_result"
        }
      ],
      "source": [
        "df.shape"
      ]
    },
    {
      "cell_type": "code",
      "execution_count": null,
      "id": "24e28a57",
      "metadata": {
        "id": "24e28a57",
        "outputId": "de218ff3-e496-4bbe-cc2a-c24763cac1ad"
      },
      "outputs": [
        {
          "name": "stdout",
          "output_type": "stream",
          "text": [
            "<class 'pandas.core.frame.DataFrame'>\n",
            "RangeIndex: 11260 entries, 0 to 11259\n",
            "Data columns (total 19 columns):\n",
            " #   Column                   Non-Null Count  Dtype  \n",
            "---  ------                   --------------  -----  \n",
            " 0   AccountID                11260 non-null  int64  \n",
            " 1   Churn                    11260 non-null  int64  \n",
            " 2   Tenure                   11158 non-null  object \n",
            " 3   City_Tier                11148 non-null  float64\n",
            " 4   CC_Contacted_LY          11158 non-null  float64\n",
            " 5   Payment                  11151 non-null  object \n",
            " 6   Gender                   11152 non-null  object \n",
            " 7   Service_Score            11162 non-null  float64\n",
            " 8   Account_user_count       11148 non-null  object \n",
            " 9   account_segment          11163 non-null  object \n",
            " 10  CC_Agent_Score           11144 non-null  float64\n",
            " 11  Marital_Status           11048 non-null  object \n",
            " 12  rev_per_month            11158 non-null  object \n",
            " 13  Complain_ly              10903 non-null  float64\n",
            " 14  rev_growth_yoy           11260 non-null  object \n",
            " 15  coupon_used_for_payment  11260 non-null  object \n",
            " 16  Day_Since_CC_connect     10903 non-null  object \n",
            " 17  cashback                 10789 non-null  object \n",
            " 18  Login_device             11039 non-null  object \n",
            "dtypes: float64(5), int64(2), object(12)\n",
            "memory usage: 1.6+ MB\n"
          ]
        }
      ],
      "source": [
        "df.info()"
      ]
    },
    {
      "cell_type": "code",
      "execution_count": null,
      "id": "4ab7eb70",
      "metadata": {
        "id": "4ab7eb70",
        "outputId": "a9543aa4-f398-4f04-d3d1-4313afc63fe4"
      },
      "outputs": [
        {
          "data": {
            "text/plain": [
              "AccountID                    0\n",
              "Churn                        0\n",
              "Tenure                     102\n",
              "City_Tier                  112\n",
              "CC_Contacted_LY            102\n",
              "Payment                    109\n",
              "Gender                     108\n",
              "Service_Score               98\n",
              "Account_user_count         112\n",
              "account_segment             97\n",
              "CC_Agent_Score             116\n",
              "Marital_Status             212\n",
              "rev_per_month              102\n",
              "Complain_ly                357\n",
              "rev_growth_yoy               0\n",
              "coupon_used_for_payment      0\n",
              "Day_Since_CC_connect       357\n",
              "cashback                   471\n",
              "Login_device               221\n",
              "dtype: int64"
            ]
          },
          "execution_count": 45,
          "metadata": {},
          "output_type": "execute_result"
        }
      ],
      "source": [
        "df.isnull().sum()"
      ]
    },
    {
      "cell_type": "code",
      "execution_count": null,
      "id": "89ad8b5e",
      "metadata": {
        "id": "89ad8b5e",
        "outputId": "3c888551-9736-4294-9f7e-3d5b5a6f66d8"
      },
      "outputs": [
        {
          "data": {
            "text/html": [
              "<div>\n",
              "<style scoped>\n",
              "    .dataframe tbody tr th:only-of-type {\n",
              "        vertical-align: middle;\n",
              "    }\n",
              "\n",
              "    .dataframe tbody tr th {\n",
              "        vertical-align: top;\n",
              "    }\n",
              "\n",
              "    .dataframe thead th {\n",
              "        text-align: right;\n",
              "    }\n",
              "</style>\n",
              "<table border=\"1\" class=\"dataframe\">\n",
              "  <thead>\n",
              "    <tr style=\"text-align: right;\">\n",
              "      <th></th>\n",
              "      <th>AccountID</th>\n",
              "      <th>Churn</th>\n",
              "      <th>City_Tier</th>\n",
              "      <th>CC_Contacted_LY</th>\n",
              "      <th>Service_Score</th>\n",
              "      <th>CC_Agent_Score</th>\n",
              "      <th>Complain_ly</th>\n",
              "    </tr>\n",
              "  </thead>\n",
              "  <tbody>\n",
              "    <tr>\n",
              "      <th>count</th>\n",
              "      <td>11260.00000</td>\n",
              "      <td>11260.000000</td>\n",
              "      <td>11148.000000</td>\n",
              "      <td>11158.000000</td>\n",
              "      <td>11162.000000</td>\n",
              "      <td>11144.000000</td>\n",
              "      <td>10903.000000</td>\n",
              "    </tr>\n",
              "    <tr>\n",
              "      <th>mean</th>\n",
              "      <td>25629.50000</td>\n",
              "      <td>0.168384</td>\n",
              "      <td>1.653929</td>\n",
              "      <td>17.867091</td>\n",
              "      <td>2.902526</td>\n",
              "      <td>3.066493</td>\n",
              "      <td>0.285334</td>\n",
              "    </tr>\n",
              "    <tr>\n",
              "      <th>std</th>\n",
              "      <td>3250.62635</td>\n",
              "      <td>0.374223</td>\n",
              "      <td>0.915015</td>\n",
              "      <td>8.853269</td>\n",
              "      <td>0.725584</td>\n",
              "      <td>1.379772</td>\n",
              "      <td>0.451594</td>\n",
              "    </tr>\n",
              "    <tr>\n",
              "      <th>min</th>\n",
              "      <td>20000.00000</td>\n",
              "      <td>0.000000</td>\n",
              "      <td>1.000000</td>\n",
              "      <td>4.000000</td>\n",
              "      <td>0.000000</td>\n",
              "      <td>1.000000</td>\n",
              "      <td>0.000000</td>\n",
              "    </tr>\n",
              "    <tr>\n",
              "      <th>25%</th>\n",
              "      <td>22814.75000</td>\n",
              "      <td>0.000000</td>\n",
              "      <td>1.000000</td>\n",
              "      <td>11.000000</td>\n",
              "      <td>2.000000</td>\n",
              "      <td>2.000000</td>\n",
              "      <td>0.000000</td>\n",
              "    </tr>\n",
              "    <tr>\n",
              "      <th>50%</th>\n",
              "      <td>25629.50000</td>\n",
              "      <td>0.000000</td>\n",
              "      <td>1.000000</td>\n",
              "      <td>16.000000</td>\n",
              "      <td>3.000000</td>\n",
              "      <td>3.000000</td>\n",
              "      <td>0.000000</td>\n",
              "    </tr>\n",
              "    <tr>\n",
              "      <th>75%</th>\n",
              "      <td>28444.25000</td>\n",
              "      <td>0.000000</td>\n",
              "      <td>3.000000</td>\n",
              "      <td>23.000000</td>\n",
              "      <td>3.000000</td>\n",
              "      <td>4.000000</td>\n",
              "      <td>1.000000</td>\n",
              "    </tr>\n",
              "    <tr>\n",
              "      <th>max</th>\n",
              "      <td>31259.00000</td>\n",
              "      <td>1.000000</td>\n",
              "      <td>3.000000</td>\n",
              "      <td>132.000000</td>\n",
              "      <td>5.000000</td>\n",
              "      <td>5.000000</td>\n",
              "      <td>1.000000</td>\n",
              "    </tr>\n",
              "  </tbody>\n",
              "</table>\n",
              "</div>"
            ],
            "text/plain": [
              "         AccountID         Churn     City_Tier  CC_Contacted_LY   \n",
              "count  11260.00000  11260.000000  11148.000000     11158.000000  \\\n",
              "mean   25629.50000      0.168384      1.653929        17.867091   \n",
              "std     3250.62635      0.374223      0.915015         8.853269   \n",
              "min    20000.00000      0.000000      1.000000         4.000000   \n",
              "25%    22814.75000      0.000000      1.000000        11.000000   \n",
              "50%    25629.50000      0.000000      1.000000        16.000000   \n",
              "75%    28444.25000      0.000000      3.000000        23.000000   \n",
              "max    31259.00000      1.000000      3.000000       132.000000   \n",
              "\n",
              "       Service_Score  CC_Agent_Score   Complain_ly  \n",
              "count   11162.000000    11144.000000  10903.000000  \n",
              "mean        2.902526        3.066493      0.285334  \n",
              "std         0.725584        1.379772      0.451594  \n",
              "min         0.000000        1.000000      0.000000  \n",
              "25%         2.000000        2.000000      0.000000  \n",
              "50%         3.000000        3.000000      0.000000  \n",
              "75%         3.000000        4.000000      1.000000  \n",
              "max         5.000000        5.000000      1.000000  "
            ]
          },
          "execution_count": 46,
          "metadata": {},
          "output_type": "execute_result"
        }
      ],
      "source": [
        "df.describe()"
      ]
    },
    {
      "cell_type": "code",
      "execution_count": null,
      "id": "2bb524d9",
      "metadata": {
        "id": "2bb524d9"
      },
      "outputs": [],
      "source": [
        "#dropping this column as insights cannot be derived from it\n",
        "df.drop(['AccountID'],axis=1,inplace=True)"
      ]
    },
    {
      "cell_type": "code",
      "execution_count": null,
      "id": "d77fd487",
      "metadata": {
        "id": "d77fd487",
        "outputId": "6b887cdb-da76-4b2d-91f8-dbf740575841"
      },
      "outputs": [
        {
          "data": {
            "text/plain": [
              "array(['5', '0', '3', '7', '2', '1', '8', '6', '4', '15', nan, '11', '10',\n",
              "       '9', '13', '12', '17', '16', '14', '30', '$', '46', '18', '31',\n",
              "       '47'], dtype=object)"
            ]
          },
          "execution_count": 48,
          "metadata": {},
          "output_type": "execute_result"
        }
      ],
      "source": [
        "#review categorical column for data accuracy.\n",
        "#df.Churn.unique()\n",
        "#df.Tenure.unique()\n",
        "#df.City_Tier.unique()\n",
        "#df.Payment.unique()\n",
        "#df.Gender.unique()\n",
        "#df.Service_Score.unique()\n",
        "#df.account_segment.unique()\n",
        "#df.CC_Agent_Score.unique()\n",
        "#df.Marital_Status.unique()\n",
        "#df.cashback.unique()\n",
        "#df.Login_device.unique()\n",
        "\n",
        "#review continuous column for data accuracy.\n",
        "#df.CC_Contacted_LY.unique()\n",
        "#df.Account_user_count.unique()\n",
        "#df.rev_per_month.unique()\n",
        "#df.Complain_ly.unique()\n",
        "#df.rev_growth_yoy.unique()\n",
        "#df.coupon_used_for_payment.unique()\n",
        "df.Day_Since_CC_connect.unique()"
      ]
    },
    {
      "cell_type": "code",
      "execution_count": null,
      "id": "c2cb4b08",
      "metadata": {
        "id": "c2cb4b08"
      },
      "outputs": [],
      "source": [
        "#strip spaces\n",
        "df.replace('(^\\s+|\\s+$)', '', regex=True, inplace=True)"
      ]
    },
    {
      "cell_type": "code",
      "execution_count": null,
      "id": "8c6ad3c7",
      "metadata": {
        "id": "8c6ad3c7"
      },
      "outputs": [],
      "source": [
        "#special character replacement within string\n",
        "df.Tenure = df.Tenure.str.replace('[^0-9]', '', regex=True)\n",
        "df.Account_user_count = df.Account_user_count.str.replace('[^0-9]','',regex=True)\n",
        "df.rev_per_month = df.rev_per_month.str.replace('[^0-9]','',regex=True)\n",
        "df.rev_growth_yoy = df.rev_growth_yoy.str.replace('[^0-9]','',regex=True)\n",
        "df.coupon_used_for_payment = df.coupon_used_for_payment.str.replace('[^0-9]','',regex=True)\n",
        "df.Day_Since_CC_connect = df.Day_Since_CC_connect.str.replace('[^0-9]','',regex=True)\n",
        "df.cashback = df.cashback.str.replace('$','')\n",
        "df.Login_device = df.Login_device.str.replace('&&&&','')\n",
        "\n",
        "#Replace empty cells with NULL\n",
        "df.Tenure = df.Tenure.replace('', np.nan)\n",
        "df.Account_user_count = df.Account_user_count.replace('', np.nan)\n",
        "df.rev_per_month = df.rev_per_month.replace('', np.nan)\n",
        "df.Login_device = df.Login_device.replace('', np.nan)\n",
        "df.rev_growth_yoy = df.rev_growth_yoy.replace('', np.nan)\n",
        "df.coupon_used_for_payment = df.coupon_used_for_payment.replace('', np.nan)\n",
        "df.Day_Since_CC_connect = df.Day_Since_CC_connect.replace('', np.nan)\n",
        "df.cashback = df.cashback.replace('', np.nan)\n",
        "\n",
        "#Manual data correction on gender TBD\n",
        "df.Gender.replace({'F':'Female','M':'Male'}, inplace=True)"
      ]
    },
    {
      "cell_type": "code",
      "execution_count": null,
      "id": "fec45069",
      "metadata": {
        "id": "fec45069",
        "outputId": "13cdbe29-c342-447a-c3ac-eb6eaa32ae51"
      },
      "outputs": [
        {
          "data": {
            "text/plain": [
              "array(['Female', 'Male', nan], dtype=object)"
            ]
          },
          "execution_count": 51,
          "metadata": {},
          "output_type": "execute_result"
        }
      ],
      "source": [
        "df.Gender.unique()"
      ]
    },
    {
      "cell_type": "code",
      "execution_count": null,
      "id": "8e7040b1",
      "metadata": {
        "id": "8e7040b1"
      },
      "outputs": [],
      "source": [
        "#categorical variables\n",
        "df.fillna({\n",
        "    \"Tenure\": df.Tenure.mode()[0],\n",
        "    \"City_Tier\": df.City_Tier.mean(),\n",
        "    \"CC_Contacted_LY\": df.CC_Contacted_LY.mean(),\n",
        "    \"Payment\": df.Payment.mode()[0],\n",
        "    \"Gender\": df.Gender.mode()[0],\n",
        "    \"Service_Score\": df.Service_Score.mean(),\n",
        "    \"account_segment\": df.account_segment.mode()[0],\n",
        "    \"CC_Agent_Score\": df.CC_Agent_Score.mean(),\n",
        "    \"Marital_Status\": df.Marital_Status.mode()[0],\n",
        "    \"Login_device\": df.Login_device.mode()[0]\n",
        "    },\n",
        "    inplace=True)\n",
        "\n",
        "#continuous variables\n",
        "df.fillna({\n",
        "    \"Account_user_count\": df.Account_user_count.mode()[0],\n",
        "    \"rev_per_month\": df.rev_per_month.mode()[0],\n",
        "    \"Complain_ly\": df.Complain_ly.mean(),\n",
        "    \"rev_growth_yoy\": df.rev_growth_yoy.mode()[0],\n",
        "    \"coupon_used_for_payment\": df.coupon_used_for_payment.mode()[0],\n",
        "    \"Day_Since_CC_connect\": df.Day_Since_CC_connect.mode()[0],\n",
        "    \"cashback\": df.cashback.mode()[0]\n",
        "}, inplace=True)\n",
        "\n",
        "#TBD : Cashback=0, coupon_used_for_payment=0, Day_Since_CC_connect=0, CC_Agent_Score=round, CC_Contacted_LY=round"
      ]
    },
    {
      "cell_type": "code",
      "execution_count": null,
      "id": "93381da3",
      "metadata": {
        "id": "93381da3",
        "outputId": "31ba6264-9b6f-450d-98c1-d93bea2bbd3b"
      },
      "outputs": [
        {
          "data": {
            "text/plain": [
              "Churn                      0\n",
              "Tenure                     0\n",
              "City_Tier                  0\n",
              "CC_Contacted_LY            0\n",
              "Payment                    0\n",
              "Gender                     0\n",
              "Service_Score              0\n",
              "Account_user_count         0\n",
              "account_segment            0\n",
              "CC_Agent_Score             0\n",
              "Marital_Status             0\n",
              "rev_per_month              0\n",
              "Complain_ly                0\n",
              "rev_growth_yoy             0\n",
              "coupon_used_for_payment    0\n",
              "Day_Since_CC_connect       0\n",
              "cashback                   0\n",
              "Login_device               0\n",
              "dtype: int64"
            ]
          },
          "execution_count": 53,
          "metadata": {},
          "output_type": "execute_result"
        }
      ],
      "source": [
        "df.isnull().sum()"
      ]
    },
    {
      "cell_type": "code",
      "execution_count": null,
      "id": "9ba75cf5",
      "metadata": {
        "id": "9ba75cf5",
        "outputId": "2b26948b-bece-4b63-fe4c-ab58e598c475"
      },
      "outputs": [
        {
          "data": {
            "text/plain": [
              "Churn                      0\n",
              "Tenure                     0\n",
              "City_Tier                  0\n",
              "CC_Contacted_LY            0\n",
              "Payment                    0\n",
              "Gender                     0\n",
              "Service_Score              0\n",
              "Account_user_count         0\n",
              "account_segment            0\n",
              "CC_Agent_Score             0\n",
              "Marital_Status             0\n",
              "rev_per_month              0\n",
              "Complain_ly                0\n",
              "rev_growth_yoy             0\n",
              "coupon_used_for_payment    0\n",
              "Day_Since_CC_connect       0\n",
              "cashback                   0\n",
              "Login_device               0\n",
              "dtype: int64"
            ]
          },
          "execution_count": 54,
          "metadata": {},
          "output_type": "execute_result"
        }
      ],
      "source": [
        "#TBD\n",
        "df[df==''].count()"
      ]
    },
    {
      "cell_type": "code",
      "execution_count": null,
      "id": "80c8eb36",
      "metadata": {
        "id": "80c8eb36",
        "outputId": "f67b3d2b-5085-41e4-9547-06237c5c1ae1"
      },
      "outputs": [
        {
          "data": {
            "text/plain": [
              "Churn                        int64\n",
              "Tenure                      object\n",
              "City_Tier                  float64\n",
              "CC_Contacted_LY            float64\n",
              "Payment                     object\n",
              "Gender                      object\n",
              "Service_Score              float64\n",
              "Account_user_count          object\n",
              "account_segment             object\n",
              "CC_Agent_Score             float64\n",
              "Marital_Status              object\n",
              "rev_per_month               object\n",
              "Complain_ly                float64\n",
              "rev_growth_yoy              object\n",
              "coupon_used_for_payment     object\n",
              "Day_Since_CC_connect        object\n",
              "cashback                    object\n",
              "Login_device                object\n",
              "dtype: object"
            ]
          },
          "execution_count": 55,
          "metadata": {},
          "output_type": "execute_result"
        }
      ],
      "source": [
        "#column datatype review\n",
        "df.dtypes"
      ]
    },
    {
      "cell_type": "code",
      "execution_count": null,
      "id": "3fb55cc3",
      "metadata": {
        "id": "3fb55cc3"
      },
      "outputs": [],
      "source": [
        "#column type casting\n",
        "df = df.astype({\n",
        "    'Tenure':'float64',\n",
        "    'Account_user_count':'float64',\n",
        "    'rev_per_month':'float64',\n",
        "    'rev_growth_yoy':'float64',\n",
        "    'coupon_used_for_payment':'float64',\n",
        "    'Day_Since_CC_connect':'float64',\n",
        "    'cashback':'float64'\n",
        "})"
      ]
    },
    {
      "cell_type": "code",
      "execution_count": null,
      "id": "cd184e34",
      "metadata": {
        "id": "cd184e34",
        "outputId": "5147d83e-e046-44b2-9d24-397a8abddaa4"
      },
      "outputs": [
        {
          "data": {
            "text/plain": [
              "Churn                        int64\n",
              "Tenure                     float64\n",
              "City_Tier                  float64\n",
              "CC_Contacted_LY            float64\n",
              "Payment                     object\n",
              "Gender                      object\n",
              "Service_Score              float64\n",
              "Account_user_count         float64\n",
              "account_segment             object\n",
              "CC_Agent_Score             float64\n",
              "Marital_Status              object\n",
              "rev_per_month              float64\n",
              "Complain_ly                float64\n",
              "rev_growth_yoy             float64\n",
              "coupon_used_for_payment    float64\n",
              "Day_Since_CC_connect       float64\n",
              "cashback                   float64\n",
              "Login_device                object\n",
              "dtype: object"
            ]
          },
          "execution_count": 57,
          "metadata": {},
          "output_type": "execute_result"
        }
      ],
      "source": [
        "#column datatype review\n",
        "df.dtypes"
      ]
    },
    {
      "cell_type": "code",
      "execution_count": null,
      "id": "083a30e1",
      "metadata": {
        "id": "083a30e1",
        "outputId": "8273a6cc-7753-4e44-f34f-745cac8a72ba"
      },
      "outputs": [
        {
          "data": {
            "text/plain": [
              "Text(0, 0.5, 'Frequency')"
            ]
          },
          "execution_count": 58,
          "metadata": {},
          "output_type": "execute_result"
        },
        {
          "data": {
            "image/png": "[encoded data removed]",
            "text/plain": [
              "<Figure size 640x480 with 1 Axes>"
            ]
          },
          "metadata": {},
          "output_type": "display_data"
        }
      ],
      "source": [
        "#data imbalance analysis\n",
        "churn_count = df.value_counts(df.Churn, sort=True)\n",
        "churn_count.plot(kind='bar', rot=0)\n",
        "plt.title(\"Churn Class Distribution\")\n",
        "plt.xlabel(\"Churn\")\n",
        "plt.ylabel(\"Frequency\")"
      ]
    },
    {
      "cell_type": "code",
      "execution_count": null,
      "id": "bb04af63",
      "metadata": {
        "id": "bb04af63",
        "outputId": "351d1961-6ef6-49a5-cc9a-97651e8b0584"
      },
      "outputs": [
        {
          "name": "stdout",
          "output_type": "stream",
          "text": [
            "(1896, 18) (9364, 18)\n",
            "(11260, 17) (11260,)\n"
          ]
        }
      ],
      "source": [
        "#data is unbalanced as Churn data provided have a ratio of 80:20\n",
        "churn_data = df[df.Churn ==1]\n",
        "nochurn_data = df[df.Churn == 0]\n",
        "print(churn_data.shape, nochurn_data.shape)\n",
        "\n",
        "columns = df.columns.tolist()\n",
        "columns = [c for c in columns if c not in [\"Churn\"]]\n",
        "target = \"Churn\"\n",
        "data_rest = df[columns]\n",
        "data_churn = df[target]\n",
        "print(data_rest.shape, data_churn.shape)"
      ]
    },
    {
      "cell_type": "code",
      "execution_count": null,
      "id": "af8b8ea7",
      "metadata": {
        "id": "af8b8ea7"
      },
      "outputs": [],
      "source": [
        "#undersampling\n",
        "#approach: get all the records with Churn=1 and take equal random samples of Churn = 0\n",
        "#best fit: recommended only for large data set with millions of records\n",
        "#risk: the sample of majority classes chosen would lead to biased results, not recommended for smaller dataset as given"
      ]
    },
    {
      "cell_type": "code",
      "execution_count": null,
      "id": "eec0a938",
      "metadata": {
        "id": "eec0a938",
        "outputId": "a8b018d8-9927-4daa-cd29-72b427dfe3be"
      },
      "outputs": [
        {
          "name": "stdout",
          "output_type": "stream",
          "text": [
            "(18728, 17) (18728,)\n"
          ]
        }
      ],
      "source": [
        "#oversampling\n",
        "#approach: get all the records with Churn=1 and create equal no.of samples for each records to match the total\n",
        "\n",
        "from imblearn.over_sampling import RandomOverSampler\n",
        "oversample = RandomOverSampler(sampling_strategy='minority')\n",
        "\n",
        "res_rest, res_churn = oversample.fit_resample(data_rest, data_churn)\n",
        "print(res_rest.shape, res_churn.shape)"
      ]
    },
    {
      "cell_type": "code",
      "execution_count": null,
      "id": "34c8e821",
      "metadata": {
        "id": "34c8e821"
      },
      "outputs": [],
      "source": [
        "#oversampling technique\n",
        "from sklearn.tree import DecisionTreeClassifier\n",
        "from sklearn.model_selection import train_test_split\n",
        "from sklearn.metrics import classification_report, confusion_matrix\n",
        "\n",
        "#generating 70:30 ratio train test data split\n",
        "X_train, X_test, y_train, y_test = train_test_split(res_rest, res_churn, test_size=0.30)"
      ]
    },
    {
      "cell_type": "code",
      "execution_count": null,
      "id": "3cd8fb84",
      "metadata": {
        "id": "3cd8fb84"
      },
      "outputs": [],
      "source": [
        "#variable transformation\n",
        "#encoding is ordinal data is recommended as string data would result error during classification\n",
        "#recommended to perform after split to avoid data leakage (train-test contamination)\n",
        "from sklearn import preprocessing\n",
        "le = preprocessing.LabelEncoder()\n",
        "\n",
        "for column_name in X_train.columns:\n",
        "    if X_train[column_name].dtype == object:\n",
        "        X_train[column_name] = le.fit_transform(X_train[column_name])\n",
        "    else:\n",
        "        pass\n",
        "\n",
        "for column_name in X_test.columns:\n",
        "    if X_test[column_name].dtype == object:\n",
        "        X_test[column_name] = le.fit_transform(X_test[column_name])\n",
        "    else:\n",
        "        pass\n",
        "\n",
        "#TBD"
      ]
    },
    {
      "cell_type": "code",
      "execution_count": null,
      "id": "754ad55c",
      "metadata": {
        "id": "754ad55c",
        "outputId": "34dd2eb9-27bb-4ac1-b4bb-91a7f605042f"
      },
      "outputs": [
        {
          "name": "stdout",
          "output_type": "stream",
          "text": [
            "              precision    recall  f1-score   support\n",
            "\n",
            "           0       1.00      0.96      0.98      2799\n",
            "           1       0.96      1.00      0.98      2820\n",
            "\n",
            "    accuracy                           0.98      5619\n",
            "   macro avg       0.98      0.98      0.98      5619\n",
            "weighted avg       0.98      0.98      0.98      5619\n",
            "\n",
            "                 Predicted Negative  Predicted Positive\n",
            "Actual Negative                2696                 103\n",
            "Actual Positive                   1                2819\n"
          ]
        }
      ],
      "source": [
        "#model building and evaluation\n",
        "classifier_tree = DecisionTreeClassifier(random_state=0)\n",
        "y_predict = classifier_tree.fit(X_train, y_train).predict(X_test)\n",
        "\n",
        "print(classification_report(y_test, y_predict))\n",
        "\n",
        "print(pd.DataFrame(\n",
        "    confusion_matrix(y_test, y_predict),\n",
        "    columns=[\"Predicted Negative\", \"Predicted Positive\"],\n",
        "    index=[\"Actual Negative\", \"Actual Positive\"]))"
      ]
    },
    {
      "cell_type": "code",
      "execution_count": null,
      "id": "ccf7bf7d",
      "metadata": {
        "id": "ccf7bf7d",
        "outputId": "ddfa744f-c33d-424f-af78-19344d9542ce"
      },
      "outputs": [
        {
          "name": "stdout",
          "output_type": "stream",
          "text": [
            "0.9814232666681869\n"
          ]
        }
      ],
      "source": [
        "#AUC Score\n",
        "from sklearn.metrics import roc_auc_score\n",
        "roc_auc = roc_auc_score(y_test, y_predict)\n",
        "print(roc_auc)"
      ]
    },
    {
      "cell_type": "code",
      "execution_count": null,
      "id": "d038d949",
      "metadata": {
        "id": "d038d949"
      },
      "outputs": [],
      "source": []
    },
    {
      "cell_type": "code",
      "execution_count": null,
      "id": "f8410f97",
      "metadata": {
        "id": "f8410f97"
      },
      "outputs": [],
      "source": []
    }
  ],
  "metadata": {
    "kernelspec": {
      "display_name": "Python 3 (ipykernel)",
      "language": "python",
      "name": "python3"
    },
    "language_info": {
      "codemirror_mode": {
        "name": "ipython",
        "version": 3
      },
      "file_extension": ".py",
      "mimetype": "text/x-python",
      "name": "python",
      "nbconvert_exporter": "python",
      "pygments_lexer": "ipython3",
      "version": "3.10.11"
    },
    "colab": {
      "provenance": [],
      "include_colab_link": true
    }
  },
  "nbformat": 4,
  "nbformat_minor": 5
}